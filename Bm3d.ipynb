{
 "cells": [
  {
   "cell_type": "code",
   "execution_count": 8,
   "metadata": {},
   "outputs": [],
   "source": [
    "import os\n",
    "import torch\n",
    "import torch.nn as nn\n",
    "from torchvision.datasets import ImageFolder\n",
    "from torch.utils.data import DataLoader\n",
    "from torchvision.datasets.folder import default_loader\n",
    "from torchvision import transforms\n",
    "import numpy as np\n",
    "import random\n",
    "import matplotlib.pyplot as plt\n",
    "from torchvision.utils import make_grid\n",
    "import time\n",
    "import copy\n",
    "from tqdm import tqdm\n",
    "import os\n",
    "import imageio\n",
    "from skimage import img_as_float\n",
    "from bm3d import bm3d"
   ]
  },
  {
   "cell_type": "code",
   "execution_count": 9,
   "metadata": {},
   "outputs": [],
   "source": [
    "# Path to the directory containing your dataset\n",
    "train_n_dir = \"/home/branislava.jankovic/Desktop/denoising-pneumonia/chest_xray/train/NORMAL\"\n",
    "train_p_dir = \"/home/branislava.jankovic/Desktop/denoising-pneumonia/chest_xray/train/PNEUMONIA\"\n",
    "val_n_dir = \"/home/branislava.jankovic/Desktop/denoising-pneumonia/chest_xray//val/NORMAL\"\n",
    "val_p_dir = \"/home/branislava.jankovic/Desktop/denoising-pneumonia/chest_xray/val/PNEUMONIA\"\n",
    "test_n_dir = \"/home/branislava.jankovic/Desktop/denoising-pneumonia/chest_xray/test/NORMAL\"\n",
    "test_p_dir = \"/home/branislava.jankovic/Desktop/denoising-pneumonia/chest_xray/test/PNEUMONIA\""
   ]
  },
  {
   "cell_type": "code",
   "execution_count": 10,
   "metadata": {},
   "outputs": [],
   "source": [
    "# List all files in the dataset directory\n",
    "train_n_files = [f for f in os.listdir(train_n_dir) if f.endswith(('.png', '.jpg', '.jpeg'))]\n",
    "train_p_files = [f for f in os.listdir(train_p_dir) if f.endswith(('.png', '.jpg', '.jpeg'))]\n",
    "\n",
    "val_n_files = [f for f in os.listdir(val_n_dir) if f.endswith(('.png', '.jpg', '.jpeg'))]\n",
    "val_p_files = [f for f in os.listdir(val_p_dir) if f.endswith(('.png', '.jpg', '.jpeg'))]\n",
    "\n",
    "test_n_files = [f for f in os.listdir(test_n_dir) if f.endswith(('.png', '.jpg', '.jpeg'))]\n",
    "test_p_files = [f for f in os.listdir(test_p_dir) if f.endswith(('.png', '.jpg', '.jpeg'))]"
   ]
  },
  {
   "cell_type": "code",
   "execution_count": 11,
   "metadata": {},
   "outputs": [],
   "source": [
    "# Create a directory to save denoised images\n",
    "output_train_n_dir = \"/home/branislava.jankovic/Desktop/denoising-pneumonia/bm3d_dataset/train/NORMAL\"\n",
    "os.makedirs(output_train_n_dir, exist_ok=True)\n",
    "output_train_p_dir = \"/home/branislava.jankovic/Desktop/denoising-pneumonia/bm3d_dataset/train/PNEUMONIA\"\n",
    "os.makedirs(output_train_p_dir, exist_ok=True)\n",
    "\n",
    "output_val_n_dir = \"/home/branislava.jankovic/Desktop/denoising-pneumonia/bm3d_dataset/val/NORMAL\"\n",
    "os.makedirs(output_val_n_dir, exist_ok=True)\n",
    "output_val_p_dir = \"/home/branislava.jankovic/Desktop/denoising-pneumonia/bm3d_dataset/val/PNEUMONIA\"\n",
    "os.makedirs(output_val_p_dir, exist_ok=True)\n",
    "\n",
    "output_test_n_dir = \"/home/branislava.jankovic/Desktop/denoising-pneumonia/bm3d_dataset/test/NORMAL\"\n",
    "os.makedirs(output_test_n_dir, exist_ok=True)\n",
    "output_test_p_dir = \"/home/branislava.jankovic/Desktop/denoising-pneumonia/bm3d_dataset/test/PNEUMONIA\"\n",
    "os.makedirs(output_test_p_dir, exist_ok=True)"
   ]
  },
  {
   "cell_type": "code",
   "execution_count": 12,
   "metadata": {},
   "outputs": [
    {
     "data": {
      "text/plain": [
       "'\\n# Loop through each image in the dataset\\nfor image_file in train_n_files:\\n    # Load the noisy image\\n    image_path = os.path.join(train_n_dir, image_file)\\n    noisy_image = imageio.imread(image_path)\\n\\n    # Convert the image to floating-point representation\\n    noisy_image_float = img_as_float(noisy_image)\\n\\n    # Transfer the noisy image to the GPU\\n    noisy_image_gpu = cp.asarray(noisy_image_float)\\n\\n    # Apply BM3D denoising using GPU acceleration with cupy\\n    denoised_image_gpu = bm3d(noisy_image_gpu, sigma)\\n\\n    # Transfer the denoised image back to the CPU\\n    denoised_image = cp.asnumpy(denoised_image_gpu)\\n\\n    # Save the denoised image\\n    output_path = os.path.join(output_train_n_dir, f\"denoised_{image_file}\")\\n    imageio.imwrite(output_path, (denoised_image * 255).astype(\\'uint8\\'))\\n\\n'"
      ]
     },
     "execution_count": 12,
     "metadata": {},
     "output_type": "execute_result"
    }
   ],
   "source": [
    "# Specify the noise standard deviation (sigma)\n",
    "sigma = 0.1\n",
    "\n",
    "# Loop through each image in the dataset\n",
    "for image_file in train_n_files:\n",
    "    # Load the noisy image\n",
    "    image_path = os.path.join(train_n_dir, image_file)\n",
    "    noisy_image = imageio.imread(image_path)\n",
    "\n",
    "    # Convert the image to floating-point representation\n",
    "    noisy_image_float = img_as_float(noisy_image)\n",
    "\n",
    "    # Transfer the noisy image to the GPU\n",
    "    noisy_image_gpu = cp.asarray(noisy_image_float)\n",
    "\n",
    "    # Apply BM3D denoising using GPU acceleration with cupy\n",
    "    denoised_image_gpu = bm3d(noisy_image_gpu, sigma)\n",
    "\n",
    "    # Transfer the denoised image back to the CPU\n",
    "    denoised_image = cp.asnumpy(denoised_image_gpu)\n",
    "\n",
    "    # Save the denoised image\n",
    "    output_path = os.path.join(output_train_n_dir, f\"denoised_{image_file}\")\n",
    "    imageio.imwrite(output_path, (denoised_image * 255).astype('uint8'))\n",
    "\n"
   ]
  },
  {
   "cell_type": "code",
   "execution_count": 13,
   "metadata": {},
   "outputs": [
    {
     "data": {
      "text/plain": [
       "'\\n\\n#  Loop through each image in TRAIN PNEUMONIA\\nfor image_file in train_p_files:\\n    # Load the noisy image\\n    image_path = os.path.join(train_p_dir, image_file)\\n    noisy_image = imageio.imread(image_path)\\n\\n    # Convert the image to floating-point representation\\n    noisy_image_float = img_as_float(noisy_image)\\n\\n    # Apply BM3D denoising\\n    denoised_image = bm3d(noisy_image_float, sigma)\\n\\n    # Save the denoised image\\n    output_path = os.path.join(output_train_p_dir, f\"denoised_{image_file}\")\\n    imageio.imwrite(output_path, (denoised_image * 255).astype(\\'uint8\\'))\\n\\n'"
      ]
     },
     "execution_count": 13,
     "metadata": {},
     "output_type": "execute_result"
    }
   ],
   "source": [
    "#  Loop through each image in TRAIN PNEUMONIA\n",
    "for image_file in train_p_files:\n",
    "    # Load the noisy image\n",
    "    image_path = os.path.join(train_p_dir, image_file)\n",
    "    noisy_image = imageio.imread(image_path)\n",
    "\n",
    "    # Convert the image to floating-point representation\n",
    "    noisy_image_float = img_as_float(noisy_image)\n",
    "\n",
    "    # Apply BM3D denoising\n",
    "    denoised_image = bm3d(noisy_image_float, sigma)\n",
    "\n",
    "    # Save the denoised image\n",
    "    output_path = os.path.join(output_train_p_dir, f\"denoised_{image_file}\")\n",
    "    imageio.imwrite(output_path, (denoised_image * 255).astype('uint8'))\n",
    "\n"
   ]
  },
  {
   "cell_type": "code",
   "execution_count": 14,
   "metadata": {},
   "outputs": [
    {
     "name": "stderr",
     "output_type": "stream",
     "text": [
      "/tmp/ipykernel_1369922/529939286.py:5: DeprecationWarning: Starting with ImageIO v3 the behavior of this function will switch to that of iio.v3.imread. To keep the current behavior (and make this warning disappear) use `import imageio.v2 as imageio` or call `imageio.v2.imread` directly.\n",
      "  noisy_image = imageio.imread(image_path)\n"
     ]
    }
   ],
   "source": [
    "# Loop through each image in VAL NORMAL\n",
    "for image_file in val_n_files:\n",
    "    # Load the noisy image\n",
    "    image_path = os.path.join(val_n_dir, image_file)\n",
    "    noisy_image = imageio.imread(image_path)\n",
    "\n",
    "    # Convert the image to floating-point representation\n",
    "    noisy_image_float = img_as_float(noisy_image)\n",
    "\n",
    "    # Apply BM3D denoising\n",
    "    denoised_image = bm3d(noisy_image_float, sigma)\n",
    "\n",
    "    # Save the denoised image\n",
    "    output_path = os.path.join(output_val_n_dir, f\"denoised_{image_file}\")\n",
    "    imageio.imwrite(output_path, (denoised_image * 255).astype('uint8'))"
   ]
  },
  {
   "cell_type": "code",
   "execution_count": 15,
   "metadata": {},
   "outputs": [
    {
     "name": "stderr",
     "output_type": "stream",
     "text": [
      "/tmp/ipykernel_1369922/1685601100.py:5: DeprecationWarning: Starting with ImageIO v3 the behavior of this function will switch to that of iio.v3.imread. To keep the current behavior (and make this warning disappear) use `import imageio.v2 as imageio` or call `imageio.v2.imread` directly.\n",
      "  noisy_image = imageio.imread(image_path)\n"
     ]
    }
   ],
   "source": [
    "# Loop through each image in VAL PNEUMONIA\n",
    "for image_file in val_p_files:\n",
    "    # Load the noisy image\n",
    "    image_path = os.path.join(val_p_dir, image_file)\n",
    "    noisy_image = imageio.imread(image_path)\n",
    "\n",
    "    # Convert the image to floating-point representation\n",
    "    noisy_image_float = img_as_float(noisy_image)\n",
    "\n",
    "    # Apply BM3D denoising\n",
    "    denoised_image = bm3d(noisy_image_float, sigma)\n",
    "\n",
    "    # Save the denoised image\n",
    "    output_path = os.path.join(output_val_p_dir, f\"denoised_{image_file}\")\n",
    "    imageio.imwrite(output_path, (denoised_image * 255).astype('uint8'))"
   ]
  },
  {
   "cell_type": "code",
   "execution_count": 16,
   "metadata": {},
   "outputs": [
    {
     "name": "stderr",
     "output_type": "stream",
     "text": [
      "/tmp/ipykernel_1369922/1669538953.py:5: DeprecationWarning: Starting with ImageIO v3 the behavior of this function will switch to that of iio.v3.imread. To keep the current behavior (and make this warning disappear) use `import imageio.v2 as imageio` or call `imageio.v2.imread` directly.\n",
      "  noisy_image = imageio.imread(image_path)\n"
     ]
    }
   ],
   "source": [
    "# Loop through each image in TEST NORMAL\n",
    "for image_file in test_n_files:\n",
    "    # Load the noisy image\n",
    "    image_path = os.path.join(test_n_dir, image_file)\n",
    "    noisy_image = imageio.imread(image_path)\n",
    "\n",
    "    # Convert the image to floating-point representation\n",
    "    noisy_image_float = img_as_float(noisy_image)\n",
    "\n",
    "    # Apply BM3D denoising\n",
    "    denoised_image = bm3d(noisy_image_float, sigma)\n",
    "\n",
    "    # Save the denoised image\n",
    "    output_path = os.path.join(output_test_n_dir, f\"denoised_{image_file}\")\n",
    "    imageio.imwrite(output_path, (denoised_image * 255).astype('uint8'))"
   ]
  },
  {
   "cell_type": "code",
   "execution_count": 17,
   "metadata": {},
   "outputs": [
    {
     "name": "stderr",
     "output_type": "stream",
     "text": [
      "/tmp/ipykernel_1369922/1227690207.py:5: DeprecationWarning: Starting with ImageIO v3 the behavior of this function will switch to that of iio.v3.imread. To keep the current behavior (and make this warning disappear) use `import imageio.v2 as imageio` or call `imageio.v2.imread` directly.\n",
      "  noisy_image = imageio.imread(image_path)\n"
     ]
    }
   ],
   "source": [
    "# Loop through each image in TEST PNEUMONIA\n",
    "for image_file in test_p_files:\n",
    "    # Load the noisy image\n",
    "    image_path = os.path.join(test_p_dir, image_file)\n",
    "    noisy_image = imageio.imread(image_path)\n",
    "\n",
    "    # Convert the image to floating-point representation\n",
    "    noisy_image_float = img_as_float(noisy_image)\n",
    "\n",
    "    # Apply BM3D denoising\n",
    "    denoised_image = bm3d(noisy_image_float, sigma)\n",
    "\n",
    "    # Save the denoised image\n",
    "    output_path = os.path.join(output_test_p_dir, f\"denoised_{image_file}\")\n",
    "    imageio.imwrite(output_path, (denoised_image * 255).astype('uint8'))"
   ]
  }
 ],
 "metadata": {
  "kernelspec": {
   "display_name": "ai701",
   "language": "python",
   "name": "python3"
  },
  "language_info": {
   "codemirror_mode": {
    "name": "ipython",
    "version": 3
   },
   "file_extension": ".py",
   "mimetype": "text/x-python",
   "name": "python",
   "nbconvert_exporter": "python",
   "pygments_lexer": "ipython3",
   "version": "3.8.17"
  }
 },
 "nbformat": 4,
 "nbformat_minor": 2
}
