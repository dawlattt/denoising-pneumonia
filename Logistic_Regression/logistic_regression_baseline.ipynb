{
 "cells": [
  {
   "cell_type": "code",
   "execution_count": 1,
   "metadata": {},
   "outputs": [],
   "source": [
    "import numpy as np\n",
    "import torch\n",
    "import random\n",
    "import sklearn\n",
    "from sklearn.linear_model import LogisticRegression\n",
    "from sklearn.model_selection import cross_val_score\n",
    "from sklearn.metrics import accuracy_score, mean_squared_error\n",
    "from sklearn.preprocessing import StandardScaler\n",
    "from sklearn.decomposition import PCA\n",
    "from torchvision.datasets import ImageFolder\n",
    "from torchvision import transforms\n",
    "from torchvision.datasets.folder import default_loader\n",
    "from torch.utils.data import DataLoader\n",
    "import matplotlib.pyplot as plt\n",
    "from torchvision.utils import make_grid\n",
    "from torchvision import models, transforms\n",
    "from torch.autograd import Variable"
   ]
  },
  {
   "cell_type": "code",
   "execution_count": 2,
   "metadata": {},
   "outputs": [],
   "source": [
    "batch_size = 128\n",
    "\n",
    "train_dir = \"/home/dawlat.akaila/Documents/AI_LABS/PROJECT_FINAL/datasets/chest_xray/train\"\n",
    "val_dir = \"/home/dawlat.akaila/Documents/AI_LABS/PROJECT_FINAL/datasets/chest_xray/val\"\n",
    "test_dir = \"/home/dawlat.akaila/Documents/AI_LABS/PROJECT_FINAL/datasets/chest_xray/test\"\n",
    "\n",
    "transform = transforms.Compose(\n",
    "                [\n",
    "                    transforms.Resize((224, 224)),\n",
    "                    transforms.ToTensor(),\n",
    "                ]\n",
    "            )\n",
    "\n",
    "train_data = ImageFolder(train_dir, transform=transform, loader=default_loader)\n",
    "val_data = ImageFolder(val_dir, transform=transform, loader=default_loader)\n",
    "test_data = ImageFolder(test_dir, transform=transform, loader=default_loader)"
   ]
  },
  {
   "cell_type": "code",
   "execution_count": 3,
   "metadata": {},
   "outputs": [],
   "source": [
    "def START_seed():\n",
    "    seed = 9\n",
    "    torch.manual_seed(seed)\n",
    "    torch.cuda.manual_seed(seed)\n",
    "    torch.cuda.manual_seed_all(seed)\n",
    "    np.random.seed(seed)\n",
    "    random.seed(seed)\n",
    "    torch.backends.cudnn.benchmark = False\n",
    "    torch.backends.cudnn.deterministic = True"
   ]
  },
  {
   "cell_type": "code",
   "execution_count": 4,
   "metadata": {},
   "outputs": [],
   "source": [
    "# load dataset\n",
    "START_seed()\n",
    "train_loader = DataLoader(dataset=train_data, batch_size=batch_size, shuffle=True, num_workers = 8)\n",
    "val_loader = DataLoader(dataset=val_data, batch_size=batch_size, shuffle=True, num_workers = 8)\n",
    "test_loader = DataLoader(dataset=test_data, batch_size=batch_size, shuffle=False, num_workers = 8)"
   ]
  },
  {
   "cell_type": "code",
   "execution_count": 6,
   "metadata": {},
   "outputs": [],
   "source": [
    "for images, _ in train_loader:\n",
    "    print('images.shape:', images.shape)\n",
    "    plt.figure(figsize=(16,8))\n",
    "    plt.axis('off')\n",
    "    plt.imshow(make_grid(images, nrow=16).permute((1, 2, 0)))\n",
    "    break"
   ]
  },
  {
   "cell_type": "code",
   "execution_count": 5,
   "metadata": {},
   "outputs": [],
   "source": [
    "# Extract features (X) and labels (y) for training, validation, and test sets\n",
    "X_train, y_train = zip(*[(data, target) for data, target in train_data])\n",
    "X_val, y_val = zip(*[(data, target) for data, target in val_data])\n",
    "X_test, y_test = zip(*[(data, target) for data, target in test_data])"
   ]
  },
  {
   "cell_type": "code",
   "execution_count": 6,
   "metadata": {},
   "outputs": [],
   "source": [
    "y_train = np.array(y_train)\n",
    "y_val = np.array(y_val)\n",
    "y_test = np.array(y_test)"
   ]
  },
  {
   "cell_type": "code",
   "execution_count": 7,
   "metadata": {},
   "outputs": [
    {
     "name": "stderr",
     "output_type": "stream",
     "text": [
      "/home/dawlat.akaila/.conda/envs/ai701/lib/python3.8/site-packages/torchvision/models/_utils.py:208: UserWarning: The parameter 'pretrained' is deprecated since 0.13 and may be removed in the future, please use 'weights' instead.\n",
      "  warnings.warn(\n",
      "/home/dawlat.akaila/.conda/envs/ai701/lib/python3.8/site-packages/torchvision/models/_utils.py:223: UserWarning: Arguments other than a weight enum or `None` for 'weights' are deprecated since 0.13 and may be removed in the future. The current behavior is equivalent to passing `weights=ResNet18_Weights.IMAGENET1K_V1`. You can also use `weights=ResNet18_Weights.DEFAULT` to get the most up-to-date weights.\n",
      "  warnings.warn(msg)\n"
     ]
    }
   ],
   "source": [
    "# Load the pre-trained ResNet18 model\n",
    "resnet = models.resnet18(pretrained=True)\n",
    "resnet.eval()\n",
    "\n",
    "# Function to extract features from an image\n",
    "def extract_features(image_tensor):\n",
    "    with torch.no_grad():\n",
    "        image_variable = Variable(image_tensor.unsqueeze(0))\n",
    "        features = resnet(image_variable)\n",
    "    return features.flatten().numpy()"
   ]
  },
  {
   "cell_type": "code",
   "execution_count": 8,
   "metadata": {},
   "outputs": [],
   "source": [
    "# Apply the feature extraction to each image in X_train\n",
    "X_train_features = []\n",
    "\n",
    "for i in range(len(X_train)):\n",
    "    img_tensor = X_train[i]\n",
    "    features = extract_features(img_tensor)\n",
    "    X_train_features.append(features)\n",
    "\n",
    "# Convert the list of features to a NumPy array\n",
    "X_train_features = np.array(X_train_features)"
   ]
  },
  {
   "cell_type": "code",
   "execution_count": 9,
   "metadata": {},
   "outputs": [],
   "source": [
    "# Apply the feature extraction to each image in X_train\n",
    "X_val_features = []\n",
    "\n",
    "for i in range(len(X_val)):\n",
    "    img_tensor = X_train[i]\n",
    "    features = extract_features(img_tensor)\n",
    "    X_val_features.append(features)\n",
    "\n",
    "# Convert the list of features to a NumPy array\n",
    "X_val_features = np.array(X_val_features)"
   ]
  },
  {
   "cell_type": "code",
   "execution_count": 10,
   "metadata": {},
   "outputs": [],
   "source": [
    "# Apply the feature extraction to each image in X_train\n",
    "X_test_features = []\n",
    "\n",
    "for i in range(len(X_test)):\n",
    "    img_tensor = X_train[i]\n",
    "    features = extract_features(img_tensor)\n",
    "    X_test_features.append(features)\n",
    "\n",
    "# Convert the list of features to a NumPy array\n",
    "X_test_features = np.array(X_test_features)"
   ]
  },
  {
   "cell_type": "code",
   "execution_count": 11,
   "metadata": {},
   "outputs": [
    {
     "name": "stdout",
     "output_type": "stream",
     "text": [
      "(5216, 16)\n"
     ]
    }
   ],
   "source": [
    "# Assuming X_train_features is your extracted features\n",
    "scaler = StandardScaler()\n",
    "scaled_X_train = scaler.fit_transform(X_train_features)\n",
    "\n",
    "# Adjust this based on your memory constraints\n",
    "n_components = 16\n",
    "pca = PCA(n_components=n_components)\n",
    "X_train_pca = pca.fit_transform(scaled_X_train)\n",
    "\n",
    "print(X_train_pca.shape)\n",
    "# Now X_train_pca has reduced dimensions"
   ]
  },
  {
   "cell_type": "code",
   "execution_count": 12,
   "metadata": {},
   "outputs": [
    {
     "name": "stdout",
     "output_type": "stream",
     "text": [
      "(16, 16)\n"
     ]
    }
   ],
   "source": [
    "# Assuming X_train_features is your extracted features\n",
    "scaler = StandardScaler()\n",
    "scaled_X_val = scaler.fit_transform(X_val_features)\n",
    "\n",
    "# Adjust this based on your memory constraints\n",
    "n_components = 16\n",
    "pca = PCA(n_components=n_components)\n",
    "X_val_pca = pca.fit_transform(scaled_X_val)\n",
    "\n",
    "print(X_val_pca.shape)\n",
    "# Now X_train_pca has reduced dimensions"
   ]
  },
  {
   "cell_type": "code",
   "execution_count": 13,
   "metadata": {},
   "outputs": [
    {
     "name": "stdout",
     "output_type": "stream",
     "text": [
      "(624, 16)\n"
     ]
    }
   ],
   "source": [
    "# Assuming X_train_features is your extracted features\n",
    "scaler = StandardScaler()\n",
    "scaled_X_test = scaler.fit_transform(X_test_features)\n",
    "\n",
    "# Adjust this based on your memory constraints\n",
    "n_components = 16\n",
    "pca = PCA(n_components=n_components)\n",
    "X_test_pca = pca.fit_transform(scaled_X_test)\n",
    "\n",
    "print(X_test_pca.shape)\n",
    "# Now X_train_pca has reduced dimensions"
   ]
  },
  {
   "cell_type": "code",
   "execution_count": 14,
   "metadata": {},
   "outputs": [],
   "source": [
    "# Create and fit the auto-sklearn classifier\n",
    "logreg_model = LogisticRegression()"
   ]
  },
  {
   "cell_type": "code",
   "execution_count": 18,
   "metadata": {},
   "outputs": [
    {
     "name": "stdout",
     "output_type": "stream",
     "text": [
      "Validation Accuracy: 0.4375\n",
      "Mean Squared Error: 0.56\n"
     ]
    }
   ],
   "source": [
    "# Make predictions on the val set\n",
    "logreg_model.fit(X_train_pca, y_train)\n",
    "y_pred_val = logreg_model.predict(X_val_pca)\n",
    "\n",
    "# Evaluate the model on the test set\n",
    "accuracy_test = sklearn.metrics.accuracy_score(y_val, y_pred_val)\n",
    "mse = mean_squared_error(y_val, y_pred_val)\n",
    "\n",
    "print(f\"Validation Accuracy: {accuracy_test}\")\n",
    "print(f'Mean Squared Error: {mse:.2f}')"
   ]
  },
  {
   "cell_type": "code",
   "execution_count": 17,
   "metadata": {},
   "outputs": [
    {
     "name": "stdout",
     "output_type": "stream",
     "text": [
      "Test Accuracy: 0.5480769230769231\n",
      "Mean Squared Error: 0.45\n"
     ]
    }
   ],
   "source": [
    "# Make predictions on the test set\n",
    "y_pred_test = logreg_model.predict(X_test_pca)\n",
    "\n",
    "# Evaluate the model on the test set\n",
    "accuracy_test = sklearn.metrics.accuracy_score(y_test, y_pred_test)\n",
    "mse = mean_squared_error(y_test, y_pred_test)\n",
    "\n",
    "print(f\"Test Accuracy: {accuracy_test}\")\n",
    "print(f'Mean Squared Error: {mse:.2f}')"
   ]
  }
 ],
 "metadata": {
  "kernelspec": {
   "display_name": "Python 3",
   "language": "python",
   "name": "python3"
  },
  "language_info": {
   "codemirror_mode": {
    "name": "ipython",
    "version": 3
   },
   "file_extension": ".py",
   "mimetype": "text/x-python",
   "name": "python",
   "nbconvert_exporter": "python",
   "pygments_lexer": "ipython3",
   "version": "3.8.13"
  },
  "orig_nbformat": 4
 },
 "nbformat": 4,
 "nbformat_minor": 2
}
