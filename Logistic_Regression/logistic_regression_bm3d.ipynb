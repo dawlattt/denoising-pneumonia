{
 "cells": [
  {
   "cell_type": "code",
   "execution_count": 17,
   "metadata": {},
   "outputs": [],
   "source": [
    "import numpy as np\n",
    "import sklearn\n",
    "from sklearn.linear_model import LogisticRegression\n",
    "from sklearn.metrics import mean_squared_error\n",
    "from sklearn.discriminant_analysis import LinearDiscriminantAnalysis\n",
    "from sklearn.preprocessing import StandardScaler\n",
    "from sklearn.decomposition import PCA"
   ]
  },
  {
   "cell_type": "code",
   "execution_count": 18,
   "metadata": {},
   "outputs": [],
   "source": [
    "X_train_features_dir = \"/home/dawlat.akaila/Documents/AI_LABS/PROJECT_FINAL/denoising-pneumonia/Feature_Extraction/BM3D/X_train_features.npy\"\n",
    "X_val_features_dir = \"/home/dawlat.akaila/Documents/AI_LABS/PROJECT_FINAL/denoising-pneumonia/Feature_Extraction/BM3D/X_val_features.npy\"\n",
    "X_test_features_dir = \"/home/dawlat.akaila/Documents/AI_LABS/PROJECT_FINAL/denoising-pneumonia/Feature_Extraction/BM3D/X_test_features.npy\"\n",
    "y_train_dir = \"/home/dawlat.akaila/Documents/AI_LABS/PROJECT_FINAL/denoising-pneumonia/Feature_Extraction/BM3D/y_train.npy\"\n",
    "y_val_dir = \"/home/dawlat.akaila/Documents/AI_LABS/PROJECT_FINAL/denoising-pneumonia/Feature_Extraction/BM3D/y_val.npy\"\n",
    "y_test_dir = \"/home/dawlat.akaila/Documents/AI_LABS/PROJECT_FINAL/denoising-pneumonia/Feature_Extraction/BM3D/y_test.npy\""
   ]
  },
  {
   "cell_type": "code",
   "execution_count": 19,
   "metadata": {},
   "outputs": [],
   "source": [
    "# load features\n",
    "X_train_features = np.load(X_train_features_dir)\n",
    "X_val_features = np.load(X_val_features_dir)\n",
    "X_test_features = np.load(X_test_features_dir)\n",
    "\n",
    "y_train = np.load(y_train_dir)\n",
    "y_val = np.load(y_val_dir)\n",
    "y_test = np.load(y_test_dir)"
   ]
  },
  {
   "cell_type": "markdown",
   "metadata": {},
   "source": [
    "### LDA"
   ]
  },
  {
   "cell_type": "code",
   "execution_count": 20,
   "metadata": {},
   "outputs": [],
   "source": [
    "# Standardize the features (important for LDA)\n",
    "scaler = StandardScaler()\n",
    "X_train_std = scaler.fit_transform(X_train_features)\n",
    "X_val_std = scaler.fit_transform(X_val_features)\n",
    "X_test_std = scaler.fit_transform(X_test_features)"
   ]
  },
  {
   "cell_type": "code",
   "execution_count": 21,
   "metadata": {},
   "outputs": [],
   "source": [
    "lda = LinearDiscriminantAnalysis(n_components=1)  # Set the desired number of components\n",
    "X_train_lda = lda.fit_transform(X_train_std, y_train)\n",
    "X_val_lda = lda.transform(X_val_std)\n",
    "X_test_lda = lda.transform(X_test_std)"
   ]
  },
  {
   "cell_type": "code",
   "execution_count": 22,
   "metadata": {},
   "outputs": [],
   "source": [
    "# Define classifier\n",
    "logreg_model = LogisticRegression()"
   ]
  },
  {
   "cell_type": "code",
   "execution_count": 23,
   "metadata": {},
   "outputs": [
    {
     "name": "stdout",
     "output_type": "stream",
     "text": [
      "Validation Accuracy: 0.4375\n",
      "Mean Squared Error: 0.56\n"
     ]
    }
   ],
   "source": [
    "# Make predictions on the val set\n",
    "logreg_model.fit(X_train_lda, y_train)\n",
    "y_pred_val = logreg_model.predict(X_val_lda)\n",
    "\n",
    "# Evaluate the model on the test set\n",
    "accuracy_val = sklearn.metrics.accuracy_score(y_val, y_pred_val)\n",
    "mse = mean_squared_error(y_val, y_pred_val)\n",
    "\n",
    "print(f\"Validation Accuracy: {accuracy_val}\")\n",
    "print(f'Mean Squared Error: {mse:.2f}')"
   ]
  },
  {
   "cell_type": "code",
   "execution_count": 24,
   "metadata": {},
   "outputs": [
    {
     "name": "stdout",
     "output_type": "stream",
     "text": [
      "Test Accuracy: 0.5849358974358975\n",
      "Mean Squared Error: 0.42\n"
     ]
    }
   ],
   "source": [
    "# Make predictions on the test set\n",
    "y_pred_test = logreg_model.predict(X_test_lda)\n",
    "\n",
    "# Evaluate the model on the test set\n",
    "accuracy_test = sklearn.metrics.accuracy_score(y_test, y_pred_test)\n",
    "mse = mean_squared_error(y_test, y_pred_test)\n",
    "\n",
    "print(f\"Test Accuracy: {accuracy_test}\")\n",
    "print(f'Mean Squared Error: {mse:.2f}')"
   ]
  },
  {
   "cell_type": "markdown",
   "metadata": {},
   "source": [
    "### PCA"
   ]
  },
  {
   "cell_type": "code",
   "execution_count": 25,
   "metadata": {},
   "outputs": [
    {
     "name": "stdout",
     "output_type": "stream",
     "text": [
      "(5216, 16)\n"
     ]
    }
   ],
   "source": [
    "scaled_X_train = scaler.fit_transform(X_train_features)\n",
    "\n",
    "n_components = 16\n",
    "pca = PCA(n_components=n_components)\n",
    "X_train_pca = pca.fit_transform(scaled_X_train)\n",
    "\n",
    "print(X_train_pca.shape)"
   ]
  },
  {
   "cell_type": "code",
   "execution_count": 26,
   "metadata": {},
   "outputs": [
    {
     "name": "stdout",
     "output_type": "stream",
     "text": [
      "(16, 16)\n"
     ]
    }
   ],
   "source": [
    "scaled_X_val = scaler.fit_transform(X_val_features)\n",
    "\n",
    "n_components = 16\n",
    "pca = PCA(n_components=n_components)\n",
    "X_val_pca = pca.fit_transform(scaled_X_val)\n",
    "\n",
    "print(X_val_pca.shape)"
   ]
  },
  {
   "cell_type": "code",
   "execution_count": 27,
   "metadata": {},
   "outputs": [
    {
     "name": "stdout",
     "output_type": "stream",
     "text": [
      "(624, 16)\n"
     ]
    }
   ],
   "source": [
    "scaled_X_test = scaler.fit_transform(X_test_features)\n",
    "\n",
    "n_components = 16\n",
    "pca = PCA(n_components=n_components)\n",
    "X_test_pca = pca.fit_transform(scaled_X_test)\n",
    "\n",
    "print(X_test_pca.shape)"
   ]
  },
  {
   "cell_type": "code",
   "execution_count": 28,
   "metadata": {},
   "outputs": [
    {
     "name": "stdout",
     "output_type": "stream",
     "text": [
      "Validation Accuracy: 0.375\n",
      "Mean Squared Error: 0.62\n"
     ]
    }
   ],
   "source": [
    "# Make predictions on the val set\n",
    "logreg_model.fit(X_train_pca, y_train)\n",
    "y_pred_val = logreg_model.predict(X_val_pca)\n",
    "\n",
    "# Evaluate the model on the test set\n",
    "accuracy_val = sklearn.metrics.accuracy_score(y_val, y_pred_val)\n",
    "mse = mean_squared_error(y_val, y_pred_val)\n",
    "\n",
    "print(f\"Validation Accuracy: {accuracy_val}\")\n",
    "print(f'Mean Squared Error: {mse:.2f}')"
   ]
  },
  {
   "cell_type": "code",
   "execution_count": 29,
   "metadata": {},
   "outputs": [
    {
     "name": "stdout",
     "output_type": "stream",
     "text": [
      "Test Accuracy: 0.5352564102564102\n",
      "Mean Squared Error: 0.46\n"
     ]
    }
   ],
   "source": [
    "# Make predictions on the test set\n",
    "y_pred_test = logreg_model.predict(X_test_pca)\n",
    "\n",
    "# Evaluate the model on the test set\n",
    "accuracy_test = sklearn.metrics.accuracy_score(y_test, y_pred_test)\n",
    "mse = mean_squared_error(y_test, y_pred_test)\n",
    "\n",
    "print(f\"Test Accuracy: {accuracy_test}\")\n",
    "print(f'Mean Squared Error: {mse:.2f}')"
   ]
  }
 ],
 "metadata": {
  "kernelspec": {
   "display_name": "Python 3",
   "language": "python",
   "name": "python3"
  },
  "language_info": {
   "codemirror_mode": {
    "name": "ipython",
    "version": 3
   },
   "file_extension": ".py",
   "mimetype": "text/x-python",
   "name": "python",
   "nbconvert_exporter": "python",
   "pygments_lexer": "ipython3",
   "version": "3.8.13"
  },
  "orig_nbformat": 4
 },
 "nbformat": 4,
 "nbformat_minor": 2
}
